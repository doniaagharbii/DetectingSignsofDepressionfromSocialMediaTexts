{
 "cells": [
  {
   "cell_type": "markdown",
   "id": "c922116b",
   "metadata": {},
   "source": [
    "# Pre-Processing"
   ]
  },
  {
   "cell_type": "markdown",
   "id": "031ae070",
   "metadata": {},
   "source": [
    "## Imports"
   ]
  },
  {
   "cell_type": "code",
   "execution_count": 2,
   "id": "aeb6a069",
   "metadata": {},
   "outputs": [],
   "source": [
    "import pandas as pd\n",
    "import numpy as np\n",
    "import re\n",
    "import string\n",
    "from os import listdir\n",
    "from collections import Counter\n",
    "from nltk.corpus import stopwords\n",
    "from nltk.sentiment import SentimentIntensityAnalyzer\n",
    "from nltk.tokenize import word_tokenize\n",
    "import spacy\n",
    "from wordcloud import WordCloud\n",
    "import matplotlib.pyplot as plt\n",
    "import seaborn as sns\n",
    "from numpy import array\n",
    "from sklearn.feature_extraction.text import TfidfVectorizer\n",
    "from sklearn.manifold import TSNE\n",
    "from sklearn.model_selection import train_test_split\n",
    "from imblearn.over_sampling import RandomOverSampler\n",
    "from imblearn.under_sampling import RandomUnderSampler\n",
    "from keras.preprocessing.text import Tokenizer\n",
    "from keras.preprocessing.sequence import pad_sequences\n",
    "from keras.utils.vis_utils import plot_model\n",
    "from keras.models import Model\n",
    "from keras.models import load_model\n",
    "from keras.layers import Input, Dense, Flatten, Dropout, Embedding\n",
    "from keras.layers.convolutional import Conv1D, MaxPooling1D\n",
    "from keras.layers.merge import concatenate\n",
    "from pickle import dump, load"
   ]
  },
  {
   "cell_type": "markdown",
   "id": "86211ffc",
   "metadata": {},
   "source": [
    "## "
   ]
  },
  {
   "cell_type": "code",
   "execution_count": 3,
   "id": "916bb0e8",
   "metadata": {},
   "outputs": [],
   "source": [
    "# load doc into memory\n",
    "def load_doc(filename):\n",
    "\t# open the file as read only\n",
    "\tfile = open(filename, 'r', encoding=\"utf8\")\n",
    "\t# read all text\n",
    "\ttext = file.read()\n",
    "\t# close the file\n",
    "\tfile.close()\n",
    "\treturn text"
   ]
  },
  {
   "cell_type": "code",
   "execution_count": 4,
   "id": "c89c2f80",
   "metadata": {},
   "outputs": [],
   "source": [
    "# turn a doc into clean tokens\n",
    "def clean_doc(df):\n",
    "\t# lower case\n",
    "    df.Text_data = df.Text_data.str.lower()\n",
    "    # remove url/website that didn't use http, is only checking for .com websites  so words that are seperated by a . are not removed\n",
    "    df.Text_data = df.Text_data.apply(lambda x: re.sub(r\"www\\.[a-z]?\\.?(com)+|[a-z]+\\.(com)\", '', x))\n",
    "    # remove @mention\n",
    "    df.Text_data = df.Text_data.apply(lambda x: re.sub(r'@mention', '', x))\n",
    "    # remove {link}\n",
    "    df.Text_data = df.Text_data.apply(lambda x: re.sub(r'{link}', '', x))\n",
    "    # remove &text; html chars\n",
    "    df.Text_data = df.Text_data.apply(lambda x: re.sub(r'&[a-z]+;', '', x))\n",
    "    # [video]\n",
    "    df.Text_data = df.Text_data.apply(lambda x: re.sub(r\"\\[video\\]\", '', x))\n",
    "    # remove all remaining characters that aren't letters, white space, or the following #:)(/\\='] that are used in emojis or hashtags\n",
    "    df.Text_data = df.Text_data.apply(lambda x: re.sub(r\"[^a-z\\s\\(\\-:\\)\\\\\\/\\];='#]\", '', x))\n",
    "\t# remove stop words\n",
    "    #stop_words = set(stopwords.words('english'))\n",
    "    #df['Text_data'] = df['Text_data'].apply(lambda x: ' '.join([word for word in x.split() if word not in stop_words]))  \n",
    "    return df"
   ]
  },
  {
   "cell_type": "code",
   "execution_count": 5,
   "id": "87f1f10a",
   "metadata": {},
   "outputs": [],
   "source": [
    "# save a dataset to file\n",
    "def save_dataset(dataset, filename):\n",
    "\tdump(dataset, open(filename, 'wb'))\n",
    "\tprint('Saved: %s' % filename)"
   ]
  },
  {
   "cell_type": "code",
   "execution_count": 6,
   "id": "44d7fd6f",
   "metadata": {},
   "outputs": [],
   "source": [
    "# load Dataset\n",
    "df = pd.read_csv('Dataset/Dataset.tsv',sep='\\t' )\n"
   ]
  },
  {
   "cell_type": "code",
   "execution_count": 7,
   "id": "ad829870",
   "metadata": {},
   "outputs": [],
   "source": [
    "# Drop PID column\n",
    "df = df.drop('PID', axis=1)"
   ]
  },
  {
   "cell_type": "code",
   "execution_count": 8,
   "id": "8e38e892",
   "metadata": {},
   "outputs": [],
   "source": [
    "# Encode labels\n",
    "df['Label']=df['Label'].map({'not depression': 0, 'moderate': 1, 'severe': 2}).astype(int)"
   ]
  },
  {
   "cell_type": "code",
   "execution_count": 9,
   "id": "95390200",
   "metadata": {},
   "outputs": [],
   "source": [
    "# Clean Dataset\n",
    "df = clean_doc(df)"
   ]
  },
  {
   "cell_type": "code",
   "execution_count": 10,
   "id": "55f71ab1",
   "metadata": {},
   "outputs": [
    {
     "data": {
      "text/html": [
       "<div>\n",
       "<style scoped>\n",
       "    .dataframe tbody tr th:only-of-type {\n",
       "        vertical-align: middle;\n",
       "    }\n",
       "\n",
       "    .dataframe tbody tr th {\n",
       "        vertical-align: top;\n",
       "    }\n",
       "\n",
       "    .dataframe thead th {\n",
       "        text-align: right;\n",
       "    }\n",
       "</style>\n",
       "<table border=\"1\" class=\"dataframe\">\n",
       "  <thead>\n",
       "    <tr style=\"text-align: right;\">\n",
       "      <th></th>\n",
       "      <th>Text_data</th>\n",
       "      <th>Label</th>\n",
       "    </tr>\n",
       "  </thead>\n",
       "  <tbody>\n",
       "    <tr>\n",
       "      <th>0</th>\n",
       "      <td>waiting for my mind to have a breakdown once t...</td>\n",
       "      <td>1</td>\n",
       "    </tr>\n",
       "    <tr>\n",
       "      <th>1</th>\n",
       "      <td>my new years resolution : i'm gonna get my ass...</td>\n",
       "      <td>1</td>\n",
       "    </tr>\n",
       "    <tr>\n",
       "      <th>2</th>\n",
       "      <td>new year : somone else feeling like  will be t...</td>\n",
       "      <td>1</td>\n",
       "    </tr>\n",
       "    <tr>\n",
       "      <th>3</th>\n",
       "      <td>my story i guess : hi im from germany and my e...</td>\n",
       "      <td>1</td>\n",
       "    </tr>\n",
       "    <tr>\n",
       "      <th>4</th>\n",
       "      <td>sat in the dark and cried myself going into th...</td>\n",
       "      <td>1</td>\n",
       "    </tr>\n",
       "    <tr>\n",
       "      <th>...</th>\n",
       "      <td>...</td>\n",
       "      <td>...</td>\n",
       "    </tr>\n",
       "    <tr>\n",
       "      <th>8886</th>\n",
       "      <td>ways to reverse memory loss from depression : ...</td>\n",
       "      <td>2</td>\n",
       "    </tr>\n",
       "    <tr>\n",
       "      <th>8887</th>\n",
       "      <td>a comprehensive guide to slowly getting better...</td>\n",
       "      <td>2</td>\n",
       "    </tr>\n",
       "    <tr>\n",
       "      <th>8888</th>\n",
       "      <td>i dont think college is right for me : tw: sui...</td>\n",
       "      <td>2</td>\n",
       "    </tr>\n",
       "    <tr>\n",
       "      <th>8889</th>\n",
       "      <td>please help: severe insomnia affecting me in m...</td>\n",
       "      <td>2</td>\n",
       "    </tr>\n",
       "    <tr>\n",
       "      <th>8890</th>\n",
       "      <td>with each passing day my depression is getting...</td>\n",
       "      <td>2</td>\n",
       "    </tr>\n",
       "  </tbody>\n",
       "</table>\n",
       "<p>8891 rows × 2 columns</p>\n",
       "</div>"
      ],
      "text/plain": [
       "                                              Text_data  Label\n",
       "0     waiting for my mind to have a breakdown once t...      1\n",
       "1     my new years resolution : i'm gonna get my ass...      1\n",
       "2     new year : somone else feeling like  will be t...      1\n",
       "3     my story i guess : hi im from germany and my e...      1\n",
       "4     sat in the dark and cried myself going into th...      1\n",
       "...                                                 ...    ...\n",
       "8886  ways to reverse memory loss from depression : ...      2\n",
       "8887  a comprehensive guide to slowly getting better...      2\n",
       "8888  i dont think college is right for me : tw: sui...      2\n",
       "8889  please help: severe insomnia affecting me in m...      2\n",
       "8890  with each passing day my depression is getting...      2\n",
       "\n",
       "[8891 rows x 2 columns]"
      ]
     },
     "execution_count": 10,
     "metadata": {},
     "output_type": "execute_result"
    }
   ],
   "source": [
    "df"
   ]
  },
  {
   "cell_type": "markdown",
   "id": "9e8d105d",
   "metadata": {},
   "source": [
    "## OverSampling the train set"
   ]
  },
  {
   "cell_type": "code",
   "execution_count": 11,
   "id": "7aadc982",
   "metadata": {},
   "outputs": [],
   "source": [
    "# Split the data into training and test sets\n",
    "X_train, X_test, Y_train, Y_test = train_test_split(df['Text_data'], df['Label'], test_size=0.25, random_state=42, stratify=df['Label'])"
   ]
  },
  {
   "cell_type": "code",
   "execution_count": 12,
   "id": "0f277fc9",
   "metadata": {},
   "outputs": [],
   "source": [
    "# Convert the test set into a DataFrame\n",
    "df_train  = pd.DataFrame({'Text_data': X_train, 'Label': Y_train})"
   ]
  },
  {
   "cell_type": "code",
   "execution_count": 13,
   "id": "8599d32d",
   "metadata": {},
   "outputs": [
    {
     "data": {
      "image/png": "[encoded data removed]",
      "text/plain": [
       "<Figure size 720x360 with 1 Axes>"
      ]
     },
     "metadata": {
      "needs_background": "light"
     },
     "output_type": "display_data"
    }
   ],
   "source": [
    "# Plot the class distribution for the original training set\n",
    "plt.figure(figsize=(10, 5))\n",
    "sns.countplot(data=df_train, x='Label', palette='Spectral')\n",
    "plt.xlabel('Classes')\n",
    "plt.title('Class Distribution in the original Training Set:')\n",
    "plt.show()"
   ]
  },
  {
   "cell_type": "code",
   "execution_count": 11,
   "id": "2e976b11",
   "metadata": {},
   "outputs": [],
   "source": [
    "# Oversampling the training set only\n",
    "ros = RandomOverSampler(random_state=42)\n",
    "X_train_res, Y_train_res = ros.fit_resample(X_train.values.reshape(-1, 1), Y_train.values)"
   ]
  },
  {
   "cell_type": "code",
   "execution_count": 12,
   "id": "57573856",
   "metadata": {
    "scrolled": true
   },
   "outputs": [],
   "source": [
    "# Convert the resampled arrays back to a DataFrame\n",
    "df_train_resampled = pd.DataFrame({'Text_data': X_train_res.flatten(), 'Label': Y_train_res.flatten()})\n"
   ]
  },
  {
   "cell_type": "code",
   "execution_count": 13,
   "id": "618a1623",
   "metadata": {},
   "outputs": [
    {
     "data": {
      "image/png": "[encoded data removed]",
      "text/plain": [
       "<Figure size 720x360 with 1 Axes>"
      ]
     },
     "metadata": {
      "needs_background": "light"
     },
     "output_type": "display_data"
    }
   ],
   "source": [
    "# Plot the class distribution for the resampled training set\n",
    "plt.figure(figsize=(10, 5))\n",
    "sns.countplot(data=df_train_resampled, x='Label', palette='Spectral')\n",
    "plt.xlabel('Classes')\n",
    "plt.title('Class Distribution in the Resampled Training Set:')\n",
    "plt.show()"
   ]
  },
  {
   "cell_type": "code",
   "execution_count": 14,
   "id": "5b7e1021",
   "metadata": {},
   "outputs": [],
   "source": [
    "# Convert the test set into a DataFrame\n",
    "df_test  = pd.DataFrame({'Text_data': X_test, 'Label': Y_test})"
   ]
  },
  {
   "cell_type": "code",
   "execution_count": 15,
   "id": "577ecd1a",
   "metadata": {},
   "outputs": [
    {
     "data": {
      "image/png": "[encoded data removed]",
      "text/plain": [
       "<Figure size 720x360 with 1 Axes>"
      ]
     },
     "metadata": {
      "needs_background": "light"
     },
     "output_type": "display_data"
    }
   ],
   "source": [
    "# Plot the class distribution in the original test set\n",
    "plt.figure(figsize=(10, 5))\n",
    "sns.countplot(data=df_test, x='Label', palette='Spectral')\n",
    "plt.xlabel('Classes')\n",
    "plt.title('Class Distribution in the Test Set:')\n",
    "plt.show()"
   ]
  },
  {
   "cell_type": "markdown",
   "id": "3c65aa18",
   "metadata": {},
   "source": [
    "## Save the pre-processed train and test sets as pickle files "
   ]
  },
  {
   "cell_type": "code",
   "execution_count": 16,
   "id": "2d941b0b",
   "metadata": {},
   "outputs": [
    {
     "name": "stdout",
     "output_type": "stream",
     "text": [
      "Saved: Dataset/train.pkl\n",
      "Saved: Dataset/test.pkl\n"
     ]
    }
   ],
   "source": [
    "save_dataset([df_train_resampled['Text_data'],df_train_resampled['Label']], 'Dataset/train.pkl')\n",
    "save_dataset([df_test['Text_data'],df_test['Label']], 'Dataset/test.pkl')"
   ]
  }
 ],
 "metadata": {
  "kernelspec": {
   "display_name": "Python 3 (ipykernel)",
   "language": "python",
   "name": "python3"
  },
  "language_info": {
   "codemirror_mode": {
    "name": "ipython",
    "version": 3
   },
   "file_extension": ".py",
   "mimetype": "text/x-python",
   "name": "python",
   "nbconvert_exporter": "python",
   "pygments_lexer": "ipython3",
   "version": "3.9.7"
  }
 },
 "nbformat": 4,
 "nbformat_minor": 5
}
